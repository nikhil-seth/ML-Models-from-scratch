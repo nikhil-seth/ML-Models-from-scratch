{
 "cells": [
  {
   "cell_type": "code",
   "execution_count": 1,
   "metadata": {},
   "outputs": [],
   "source": [
    "#Importing Numpy for Scientific Calculation, Matplotlib for Plotting Data & sklearn.metrics for caluclating mean Error\n",
    "import numpy as np\n",
    "import matplotlib.pyplot as plt\n",
    "from sklearn.metrics import mean_absolute_error as MAE"
   ]
  },
  {
   "cell_type": "code",
   "execution_count": 2,
   "metadata": {},
   "outputs": [],
   "source": [
    "#Defining Class LinReg\n",
    "class LinReg:\n",
    "    def __init__(self,rate,iteration):\n",
    "        self.iteration=iteration\n",
    "        self.rate=rate\n",
    "        self.parameters=np.zeros((2,1))\n",
    "    def cost_funct(self):\n",
    "        self.cost=np.sum(np.square((self.prediction-self.Y))/(2*len(self.Y)))\n",
    "\n",
    "    def predict(self,X=[],flag=False):\n",
    "        if flag==False:\n",
    "            self.prediction=np.dot(self.X,self.parameters)\n",
    "        else:\n",
    "            self.prediction=np.dot(X,self.parameters)\n",
    "    def descent(self):\n",
    "        q=(self.prediction-self.Y)\t\n",
    "        q=(np.dot(self.X.transpose(),q))\n",
    "        self.parameters=self.parameters-(self.rate/len(self.Y))*q\n",
    "    def fit(self,X_train,Y_train):\n",
    "        X_train=X_train.reshape(len(X_train),1)\n",
    "        b=np.ones(len(X_train)).reshape(X_train.shape)\n",
    "        self.X=np.hstack((b,X_train))\n",
    "        Y_train=Y_train.reshape(len(Y_train),1)\n",
    "        self.Y=Y_train\n",
    "        while(self.iteration):\n",
    "            self.iteration-=1\n",
    "            self.iterate()\n",
    "        self.pr()\n",
    "\n",
    "    def iterate(self):\n",
    "        self.predict()\n",
    "        self.cost_funct()\n",
    "        print(\"Cost : \",self.cost)\n",
    "        self.descent()\n",
    "    def pr(self):\n",
    "        print(\"\\nParameters : \",self.parameters[0][0],\"\\t\",self.parameters[1][0],\"\\nCost : \",self.cost)\n",
    "    def ret_para(self):\n",
    "        return self.parameters\n",
    "    def predictions(self,X_test):\n",
    "        X_test=X_test.reshape(len(X_test),1)\n",
    "        b=np.ones(len(X_test)).reshape(X_test.shape)\n",
    "        X_test=np.hstack((b,X_test))\n",
    "        self.predict(X_test,True)\n",
    "    def accuracy(self,X_test,Y_test):\n",
    "        self.predictions(X_test)\n",
    "        Y_test=Y_test.reshape(len(Y_test),1)\n",
    "        print(\"\\nMean Absolute Error : \",MAE(Y_test,self.prediction))"
   ]
  },
  {
   "cell_type": "code",
   "execution_count": 3,
   "metadata": {},
   "outputs": [],
   "source": [
    "def abline(slope, intercept):\n",
    "    \"\"\"Plot a line from slope and intercept\"\"\"\n",
    "    axes = plt.gca()\n",
    "    x_vals = np.array(axes.get_xlim())\n",
    "    y_vals = intercept + slope * x_vals\n",
    "    plt.plot(x_vals, y_vals, '--',color='red',label='Linear Line Fit')\n"
   ]
  },
  {
   "cell_type": "code",
   "execution_count": 4,
   "metadata": {},
   "outputs": [
    {
     "name": "stdout",
     "output_type": "stream",
     "text": [
      "Linear Regression With One Input Variable/Feature giving univariable Output\n",
      "\n"
     ]
    }
   ],
   "source": [
    "#Importing of Data\n",
    "print(\"Linear Regression With One Input Variable/Feature giving univariable Output\\n\")\n",
    "data = np.genfromtxt('train.csv', delimiter=',')\n",
    "data=data[1:,:]\n",
    "X_train=data[:,0]\n",
    "Y_train=data[:,1]\n",
    "data = np.genfromtxt('train.csv', delimiter=',')\n",
    "test = np.genfromtxt('test.csv', delimiter=',')\n",
    "test=test[1:,:]\n",
    "X_test=test[:,0]\n",
    "Y_test=test[:,1]\n"
   ]
  },
  {
   "cell_type": "code",
   "execution_count": 5,
   "metadata": {},
   "outputs": [],
   "source": [
    "#Setting Learning Rate lr & no of iteration\n",
    "lr=0.0005\n",
    "iteration=100\n"
   ]
  },
  {
   "cell_type": "code",
   "execution_count": 6,
   "metadata": {},
   "outputs": [
    {
     "name": "stdout",
     "output_type": "stream",
     "text": [
      "Cost :  1668.3262288672486\n",
      "Cost :  746.9973996821388\n",
      "Cost :  335.67652843642156\n",
      "Cost :  152.0451756285452\n",
      "Cost :  70.06423042595227\n",
      "Cost :  33.464405255686785\n",
      "Cost :  17.12466663017925\n",
      "Cost :  9.829903239101366\n",
      "Cost :  6.573206359318984\n",
      "Cost :  5.119276289552348\n",
      "Cost :  4.470178968919687\n",
      "Cost :  4.180393651680376\n",
      "Cost :  4.051020688382696\n",
      "Cost :  3.9932627089148482\n",
      "Cost :  3.967476742761249\n",
      "Cost :  3.9559644604632416\n",
      "Cost :  3.950824565484427\n",
      "Cost :  3.948529578742544\n",
      "Cost :  3.9475046816469286\n",
      "Cost :  3.9470468073513434\n",
      "Cost :  3.946842076534557\n",
      "Cost :  3.946750359948791\n",
      "Cost :  3.9467090978624526\n",
      "Cost :  3.946690360916901\n",
      "Cost :  3.9466816802434996\n",
      "Cost :  3.946677489202238\n",
      "Cost :  3.946675302605239\n",
      "Cost :  3.9466740109575786\n",
      "Cost :  3.9466731189329156\n",
      "Cost :  3.946672405396219\n",
      "Cost :  3.9466717716232673\n",
      "Cost :  3.9466711735392956\n",
      "Cost :  3.94667059146741\n",
      "Cost :  3.9466700166229787\n",
      "Cost :  3.946669445084144\n",
      "Cost :  3.9466688750999994\n",
      "Cost :  3.9466683058888448\n",
      "Cost :  3.946667737101677\n",
      "Cost :  3.9466671685826653\n",
      "Cost :  3.9466666002622204\n",
      "Cost :  3.9466660321092557\n",
      "Cost :  3.9466654641098704\n",
      "Cost :  3.9466648962578414\n",
      "Cost :  3.946664328550372\n",
      "Cost :  3.9466637609861905\n",
      "Cost :  3.946663193564711\n",
      "Cost :  3.9466626262856517\n",
      "Cost :  3.9466620591488684\n",
      "Cost :  3.9466614921542753\n",
      "Cost :  3.9466609253018152\n",
      "Cost :  3.9466603585914433\n",
      "Cost :  3.946659792023118\n",
      "Cost :  3.946659225596804\n",
      "Cost :  3.9466586593124635\n",
      "Cost :  3.946658093170061\n",
      "Cost :  3.94665752716956\n",
      "Cost :  3.946656961310926\n",
      "Cost :  3.946656395594122\n",
      "Cost :  3.9466558300191132\n",
      "Cost :  3.946655264585864\n",
      "Cost :  3.9466546992943394\n",
      "Cost :  3.946654134144504\n",
      "Cost :  3.9466535691363203\n",
      "Cost :  3.9466530042697547\n",
      "Cost :  3.9466524395447715\n",
      "Cost :  3.946651874961335\n",
      "Cost :  3.946651310519409\n",
      "Cost :  3.9466507462189595\n",
      "Cost :  3.9466501820599498\n",
      "Cost :  3.946649618042344\n",
      "Cost :  3.9466490541661083\n",
      "Cost :  3.946648490431206\n",
      "Cost :  3.9466479268376027\n",
      "Cost :  3.946647363385262\n",
      "Cost :  3.9466468000741495\n",
      "Cost :  3.9466462369042286\n",
      "Cost :  3.946645673875464\n",
      "Cost :  3.9466451109878222\n",
      "Cost :  3.9466445482412653\n",
      "Cost :  3.94664398563576\n",
      "Cost :  3.9466434231712686\n",
      "Cost :  3.946642860847759\n",
      "Cost :  3.9466422986651937\n",
      "Cost :  3.946641736623537\n",
      "Cost :  3.9466411747227546\n",
      "Cost :  3.946640612962811\n",
      "Cost :  3.946640051343671\n",
      "Cost :  3.946639489865299\n",
      "Cost :  3.9466389285276593\n",
      "Cost :  3.946638367330718\n",
      "Cost :  3.946637806274439\n",
      "Cost :  3.9466372453587866\n",
      "Cost :  3.946636684583726\n",
      "Cost :  3.9466361239492223\n",
      "Cost :  3.946635563455239\n",
      "Cost :  3.9466350031017425\n",
      "Cost :  3.9466344428886972\n",
      "Cost :  3.9466338828160676\n",
      "Cost :  3.9466333228838173\n",
      "Cost :  3.9466327630919142\n",
      "\n",
      "Parameters :  0.013287110076451954 \t 0.998778091240135 \n",
      "Cost :  3.9466327630919142\n"
     ]
    }
   ],
   "source": [
    "#Creating of obj of LinReg class\n",
    "obj=LinReg(lr,iteration)\n",
    "obj.fit(X_train,Y_train)\n"
   ]
  },
  {
   "cell_type": "code",
   "execution_count": 7,
   "metadata": {},
   "outputs": [
    {
     "data": {
      "image/png": "[encoded data removed]",
      "text/plain": [
       "<Figure size 432x288 with 1 Axes>"
      ]
     },
     "metadata": {},
     "output_type": "display_data"
    }
   ],
   "source": [
    "#Plotting X_Train & Y_Train with Predicticted Linear Fitting\n",
    "plt.scatter(X_train,Y_train,color='blue',label='Training Data')\n",
    "plt.legend()\n",
    "a=obj.ret_para()\n",
    "abline(a[1,0],a[0,0])"
   ]
  },
  {
   "cell_type": "code",
   "execution_count": 8,
   "metadata": {},
   "outputs": [
    {
     "name": "stdout",
     "output_type": "stream",
     "text": [
      "\n",
      "Mean Absolute Error :  2.418865312831772\n"
     ]
    }
   ],
   "source": [
    "#Finding Object Accuracy Using Test Set\n",
    "#X_test ,Y_test\n",
    "obj.accuracy(X_test,Y_test)"
   ]
  },
  {
   "cell_type": "code",
   "execution_count": 15,
   "metadata": {},
   "outputs": [
    {
     "data": {
      "image/png": "[encoded data removed]",
      "text/plain": [
       "<Figure size 432x288 with 1 Axes>"
      ]
     },
     "metadata": {},
     "output_type": "display_data"
    }
   ],
   "source": [
    "#Plotting X_test & Y_test\n",
    "plt.scatter(X_train,Y_train,color='blue',label='Training Data')\n",
    "plt.scatter(X_test,Y_test,c='g',label='Test Data')\n",
    "plt.legend()\n",
    "abline(a[1,0],a[0,0])"
   ]
  }
 ],
 "metadata": {
  "kernelspec": {
   "display_name": "Python 3",
   "language": "python",
   "name": "python3"
  },
  "language_info": {
   "codemirror_mode": {
    "name": "ipython",
    "version": 3
   },
   "file_extension": ".py",
   "mimetype": "text/x-python",
   "name": "python",
   "nbconvert_exporter": "python",
   "pygments_lexer": "ipython3",
   "version": "3.6.5"
  }
 },
 "nbformat": 4,
 "nbformat_minor": 2
}
