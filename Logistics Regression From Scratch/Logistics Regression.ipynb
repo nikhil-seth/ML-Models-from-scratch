{
 "cells": [
  {
   "cell_type": "code",
   "execution_count": 1,
   "metadata": {},
   "outputs": [],
   "source": [
    "import numpy as np\n",
    "from sklearn.metrics import log_loss,mean_absolute_error as MAE"
   ]
  },
  {
   "cell_type": "code",
   "execution_count": 11,
   "metadata": {},
   "outputs": [],
   "source": [
    "class LogisticsRegression:\n",
    "    def __init__(self,iterations,rate):\n",
    "        self.iter=iterations\n",
    "        self.rate=rate\n",
    "    def genparam(self,train_x):\n",
    "        self.param=np.zeros((train_x.shape[1],1))\n",
    "    def sigmoid(self,X):\n",
    "        return 1/(1+np.exp(-X))\n",
    "    \n",
    "    def compute(self,train_x):\n",
    "        return self.sigmoid(np.dot(train_x,self.param))\n",
    "\n",
    "    def cost(self,hx,train_y):\n",
    "        #cost_val = -1/train_y.shape[0] * np.sum(np.multiply(np.log(hx), train_y) + np.multiply(np.log(1-hx), (1-train_y)))\n",
    "        cost_val = log_loss(train_y,hx)\n",
    "        return cost_val\n",
    "    def descent(self,pred_y,train_x,train_y):\n",
    "        dt=np.dot(train_x.T,(pred_y-train_y))\n",
    "        #print(dt)\n",
    "        dt=dt*self.rate/train_y.shape[0]\n",
    "        self.param-=dt\n",
    "        \n",
    "    def fit(self,train_x,train_y):\n",
    "        b=np.ones((train_x.shape[0],1))\n",
    "        train_x=np.hstack((b,train_x))\n",
    "        self.genparam(train_x)\n",
    "        for i in range(self.iter):\n",
    "            pred_y=self.compute(train_x)\n",
    "            if i%100000==0:\n",
    "                print(self.cost(pred_y,train_y))\n",
    "            self.descent(pred_y,train_x,train_y)\n",
    "            \n",
    "    def predict(self,test_x):\n",
    "        b=np.ones((test_x.shape[0],1))\n",
    "        test_x=np.hstack((b,test_x))\n",
    "        val=self.compute(test_x)\n",
    "        for i in range(len(val)):\n",
    "            if(val[i]>=0.5):\n",
    "                val[i]=1\n",
    "            else:\n",
    "                val[i]=0\n",
    "        return val"
   ]
  },
  {
   "cell_type": "code",
   "execution_count": 12,
   "metadata": {},
   "outputs": [],
   "source": [
    "# Importing dataset\n",
    "from sklearn.datasets import load_breast_cancer"
   ]
  },
  {
   "cell_type": "code",
   "execution_count": 13,
   "metadata": {},
   "outputs": [],
   "source": [
    "X,Y=load_breast_cancer(True) # Dimensionality = 30\n",
    "train_x=X[:450][:]\n",
    "train_y=Y[:450][:]\n",
    "test_x=X[450:][:]\n",
    "test_y=Y[450:][:]\n",
    "train_y.resize(len(train_y),1)\n",
    "test_y.resize(len(test_y),1)"
   ]
  },
  {
   "cell_type": "code",
   "execution_count": 14,
   "metadata": {},
   "outputs": [
    {
     "name": "stdout",
     "output_type": "stream",
     "text": [
      "0.6931471805599453\n",
      "0.33785492081082874\n",
      "0.27916765386789966\n",
      "0.24227033112296872\n",
      "0.21769099205927092\n",
      "0.33582467690991874\n",
      "0.1218500014142401\n",
      "0.30054681575819264\n",
      "0.11477130474889784\n",
      "0.11175129922476244\n"
     ]
    }
   ],
   "source": [
    "obj=LogisticsRegression(1000000,0.0001)\n",
    "obj.fit(train_x,train_y)"
   ]
  },
  {
   "cell_type": "code",
   "execution_count": 15,
   "metadata": {},
   "outputs": [
    {
     "name": "stdout",
     "output_type": "stream",
     "text": [
      "Error Mean Absolute :  0.10084033613445378\n"
     ]
    }
   ],
   "source": [
    "result=obj.predict(test_x)\n",
    "print(\"Error Mean Absolute : \",MAE(test_y,result))"
   ]
  }
 ],
 "metadata": {
  "kernelspec": {
   "display_name": "Python 3",
   "language": "python",
   "name": "python3"
  },
  "language_info": {
   "codemirror_mode": {
    "name": "ipython",
    "version": 3
   },
   "file_extension": ".py",
   "mimetype": "text/x-python",
   "name": "python",
   "nbconvert_exporter": "python",
   "pygments_lexer": "ipython3",
   "version": "3.7.3"
  }
 },
 "nbformat": 4,
 "nbformat_minor": 2
}
