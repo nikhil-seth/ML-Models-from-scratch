{
 "cells": [
  {
   "cell_type": "code",
   "execution_count": 1,
   "metadata": {},
   "outputs": [],
   "source": [
    "# Importing Important Libraries\n",
    "\n",
    "import numpy as np\n",
    "import tensorflow as tf\n",
    "import pandas as pd\n",
    "import matplotlib.pyplot as plt"
   ]
  },
  {
   "cell_type": "code",
   "execution_count": 2,
   "metadata": {},
   "outputs": [],
   "source": [
    "# Reading CSV from dataset having 42k images.\n",
    "train=pd.read_csv(\"train.csv\")\n",
    "test=pd.read_csv(\"test.csv\")\n",
    "sample=pd.read_csv(\"Downloads/sample_submission.csv\")"
   ]
  },
  {
   "cell_type": "code",
   "execution_count": 3,
   "metadata": {},
   "outputs": [
    {
     "name": "stdout",
     "output_type": "stream",
     "text": [
      "Training Set Shape : (42000, 785)\n",
      "Test Set Shape : (28000, 784)\n"
     ]
    }
   ],
   "source": [
    "print(\"Training Set Shape :\",train.shape)\n",
    "print(\"Test Set Shape :\",test.shape)"
   ]
  },
  {
   "cell_type": "code",
   "execution_count": 4,
   "metadata": {},
   "outputs": [],
   "source": [
    "#Creating X & Y from Dataset\n",
    "Y=train['label']\n",
    "Y=Y.values\n",
    "X=train.drop(['label'],axis=1)\n",
    "X=X.values\n",
    "test=test.values"
   ]
  },
  {
   "cell_type": "code",
   "execution_count": 5,
   "metadata": {},
   "outputs": [
    {
     "name": "stdout",
     "output_type": "stream",
     "text": [
      "X's Shape :  (42000, 784)\n",
      "Y's Shape :  (42000,)\n",
      "Test Dataset's Shape :  (28000, 784)\n"
     ]
    }
   ],
   "source": [
    "print(\"X's Shape : \",X.shape)\n",
    "print(\"Y's Shape : \",Y.shape)\n",
    "print(\"Test Dataset's Shape : \",test.shape)"
   ]
  },
  {
   "cell_type": "code",
   "execution_count": 6,
   "metadata": {},
   "outputs": [
    {
     "data": {
      "image/png": "[encoded data removed]",
      "text/plain": [
       "<Figure size 432x288 with 1 Axes>"
      ]
     },
     "metadata": {},
     "output_type": "display_data"
    }
   ],
   "source": [
    "# Plotting an Example Image\n",
    "t=X.reshape(-1,28,28)\n",
    "plt.imshow(t[np.random.randint(0,41999)])\n",
    "plt.show()"
   ]
  },
  {
   "cell_type": "code",
   "execution_count": 7,
   "metadata": {},
   "outputs": [],
   "source": [
    "# Normalizing Dataset\n",
    "X=X/255\n",
    "test=test/255"
   ]
  },
  {
   "cell_type": "code",
   "execution_count": 8,
   "metadata": {},
   "outputs": [],
   "source": [
    "# Doing One Hot Encoding On Labels\n",
    "def ohe(C,vector):\n",
    "    C=tf.constant(C,name=\"C\")\n",
    "    one_hot_matrix = tf.one_hot(vector,C,axis=1)\n",
    "    with tf.Session() as sess:\n",
    "        ohot = sess.run(one_hot_matrix)\n",
    "    return ohot\n",
    "Y=ohe(10,Y)"
   ]
  },
  {
   "cell_type": "code",
   "execution_count": 9,
   "metadata": {},
   "outputs": [],
   "source": [
    "# Transposing Dataset To Make it in using\n",
    "X=X.T\n",
    "Y=Y.T\n",
    "test=test.T\n",
    "X_train=X[:,:40000]\n",
    "Y_train=Y[:,:40000]\n",
    "X_dev=X[:,40000:]\n",
    "Y_dev=Y[:,40000:]"
   ]
  },
  {
   "cell_type": "code",
   "execution_count": 10,
   "metadata": {
    "scrolled": true
   },
   "outputs": [
    {
     "name": "stdout",
     "output_type": "stream",
     "text": [
      "X-Train Shape:(784, 40000)\n",
      "Y-Train Shape:(10, 40000)\n",
      "X-dev Shape:(784, 2000)\n",
      "Y-dev Shape :(10, 2000)\n",
      "Test Set Shape :(784, 28000)\n"
     ]
    }
   ],
   "source": [
    "print(\"X-Train Shape:{0}\\nY-Train Shape:{1}\\nX-dev Shape:{2}\\nY-dev Shape :{3}\\nTest Set Shape :{4}\".format(X_train.shape,Y_train.shape,X_dev.shape,Y_dev.shape,test.shape))"
   ]
  },
  {
   "cell_type": "markdown",
   "metadata": {},
   "source": [
    "### Creating  A Tensorflow Architecture &nbsp;"
   ]
  },
  {
   "cell_type": "code",
   "execution_count": 11,
   "metadata": {},
   "outputs": [],
   "source": [
    "### Create Placeholders for Data\n",
    "def create_placeholder(n_x,n_y):\n",
    "    X=tf.placeholder(tf.float32,name=\"X\",shape=(n_x,None))\n",
    "    Y=tf.placeholder(tf.float32,name=\"Y\",shape=(n_y,None))\n",
    "    return X,Y"
   ]
  },
  {
   "cell_type": "code",
   "execution_count": 12,
   "metadata": {},
   "outputs": [],
   "source": [
    "#Initialize Parameter :    \n",
    "def initParams(L,layer_size):  # L : No of Layers layer_size : Size of each Layer\n",
    "    params={}\n",
    "    for i in range(L):\n",
    "        params['W'+str(i+1)]=tf.get_variable(name=(\"W\"+str(i+1)),shape=[layer_size[i+1],layer_size[i]],initializer=tf.contrib.layers.xavier_initializer())\n",
    "        params['b'+str(i+1)]= tf.get_variable(name=(\"b\"+str(i+1)),shape=[layer_size[i+1],1],initializer=tf.zeros_initializer())\n",
    "    \n",
    "    return params"
   ]
  },
  {
   "cell_type": "code",
   "execution_count": 13,
   "metadata": {},
   "outputs": [],
   "source": [
    "# Linear Propagation with RELU\n",
    "def linear_prop(X,W,b):\n",
    "    Z=tf.add(tf.matmul(W,X),b)\n",
    "    A=tf.nn.relu(Z)\n",
    "    return A"
   ]
  },
  {
   "cell_type": "code",
   "execution_count": 14,
   "metadata": {},
   "outputs": [],
   "source": [
    "#Forward Propagation\n",
    "def fwdprop(X,params,L):\n",
    "    for i in range(1,L):\n",
    "        X=linear_prop(X,params['W'+str(i)],params['b'+str(i)])\n",
    "    Z=tf.add(tf.matmul(params['W'+str(i+1)],X),params['b'+str(i+1)])\n",
    "    return Z"
   ]
  },
  {
   "cell_type": "code",
   "execution_count": 15,
   "metadata": {},
   "outputs": [],
   "source": [
    "# Function to compute Cost\n",
    "def compute_cost(A,Y):\n",
    "    logits = tf.transpose(A)\n",
    "    labels = tf.transpose(Y)\n",
    "    cost = tf.reduce_mean(tf.nn.softmax_cross_entropy_with_logits_v2(logits=logits,labels=labels))\n",
    "    return cost"
   ]
  },
  {
   "cell_type": "code",
   "execution_count": 16,
   "metadata": {},
   "outputs": [],
   "source": [
    "# NN Model\n",
    "def model(X_train,Y_train,X_test,Y_test,learning_rate = 0.01,num_epochs = 300, minibatch_size = 32, print_cost = True):\n",
    "    L=4\n",
    "    layer_size=[X_train.shape[0],300,100,25,Y_train.shape[0]]\n",
    "    costs=[]\n",
    "    X, Y = create_placeholder(X_train.shape[0],Y_train.shape[0])\n",
    "    params=initParams(L,layer_size)\n",
    "    A=fwdprop(X,params,L)\n",
    "    cost = compute_cost(A,Y)\n",
    "    optimizer = tf.train.AdamOptimizer(learning_rate=learning_rate).minimize(cost)\n",
    "    init = tf.global_variables_initializer()\n",
    "    miniX=[]\n",
    "    miniY=[]\n",
    "    for i in range(1024,40000,1024):\n",
    "        miniX.append(X_train[:,i-1024:i])\n",
    "        miniY.append(Y_train[:,i-1024:i])\n",
    "    miniX.append(X_train[:,i:40000])\n",
    "    miniY.append(Y_train[:,i:40000])\n",
    "\n",
    "    with tf.Session() as sess:\n",
    "        sess.run(init)\n",
    "        for epoch in range(num_epochs):\n",
    "            epoch_cost = 0.                       # Defines a cost related to an epoch\n",
    "            for i in range(len(miniX)):\n",
    "                _ , mb_cost = sess.run([optimizer, cost], feed_dict={X: miniX[i], Y: miniY[i]})\n",
    "                epoch_cost+=mb_cost\n",
    "            if print_cost == True and epoch % 100 == 0:\n",
    "                print (\"Cost after epoch %i: %f\" % (epoch, epoch_cost))\n",
    "            if print_cost == True and epoch % 5 == 0:\n",
    "                costs.append(epoch_cost)\n",
    "            \n",
    "            \n",
    "            \n",
    "            if epoch%50==0:\n",
    "                correct_prediction = tf.equal(tf.argmax(A), tf.argmax(Y))\n",
    "                accuracy = tf.reduce_mean(tf.cast(correct_prediction, \"float\"))\n",
    "            # Calculate accuracy on the test set\n",
    "                print (\"Train Accuracy:\", accuracy.eval({X: X_train, Y: Y_train}))\n",
    "                print (\"Test Accuracy:\", accuracy.eval({X: X_test, Y: Y_test}))\n",
    "        # plot the cost\n",
    "        plt.plot(np.squeeze(costs))\n",
    "        plt.ylabel('cost')\n",
    "        plt.xlabel('iterations (per tens)')\n",
    "        plt.title(\"Learning rate =\" + str(learning_rate))\n",
    "        plt.show()\n",
    "\n",
    "        # lets save the parameters in a variable\n",
    "        params = sess.run(params)\n",
    "        print (\"Parameters have been trained!\")\n",
    "\n",
    "        # Calculate the correct predictions\n",
    "        correct_prediction = tf.equal(tf.argmax(A), tf.argmax(Y))\n",
    "\n",
    "        # Calculate accuracy on the test set\n",
    "        accuracy = tf.reduce_mean(tf.cast(correct_prediction, \"float\"))\n",
    "\n",
    "        print (\"Train Accuracy:\", accuracy.eval({X: X_train, Y: Y_train}))\n",
    "        print (\"Test Accuracy:\", accuracy.eval({X: X_test, Y: Y_test}))\n",
    "        \n",
    "\n",
    "        return params\n",
    "\n",
    "\n",
    "\n",
    "\n",
    "\n",
    "    "
   ]
  },
  {
   "cell_type": "code",
   "execution_count": 17,
   "metadata": {},
   "outputs": [
    {
     "name": "stdout",
     "output_type": "stream",
     "text": [
      "Cost after epoch 0: 28.754080\n",
      "Train Accuracy: 0.935675\n",
      "Test Accuracy: 0.9285\n",
      "Train Accuracy: 0.99455\n",
      "Test Accuracy: 0.969\n",
      "Cost after epoch 100: 0.000476\n",
      "Train Accuracy: 1.0\n",
      "Test Accuracy: 0.9775\n",
      "Train Accuracy: 1.0\n",
      "Test Accuracy: 0.9775\n",
      "Cost after epoch 200: 0.000004\n",
      "Train Accuracy: 1.0\n",
      "Test Accuracy: 0.977\n",
      "Train Accuracy: 1.0\n",
      "Test Accuracy: 0.977\n"
     ]
    },
    {
     "data": {
      "image/png": "[encoded data removed]",
      "text/plain": [
       "<Figure size 432x288 with 1 Axes>"
      ]
     },
     "metadata": {},
     "output_type": "display_data"
    },
    {
     "name": "stdout",
     "output_type": "stream",
     "text": [
      "Parameters have been trained!\n",
      "Train Accuracy: 1.0\n",
      "Test Accuracy: 0.9775\n"
     ]
    }
   ],
   "source": [
    "tf.reset_default_graph()\n",
    "params=model(X_train,Y_train,X_dev,Y_dev)\n"
   ]
  },
  {
   "cell_type": "code",
   "execution_count": 18,
   "metadata": {},
   "outputs": [],
   "source": [
    "def pred(test,params):\n",
    "    X=tf.placeholder(tf.float32,name=\"X\",shape=(test.shape[0],None))\n",
    "    A=fwdprop(X,params,4)\n",
    "    Y=tf.nn.softmax(A)\n",
    "    init = tf.global_variables_initializer()\n",
    "    with tf.Session() as sess:\n",
    "        predict=sess.run(Y,feed_dict={X:test})\n",
    "    return predict\n",
    "        "
   ]
  },
  {
   "cell_type": "code",
   "execution_count": 19,
   "metadata": {},
   "outputs": [],
   "source": [
    "# Predicting On Test Set\n",
    "predictions = pred(test,params)"
   ]
  },
  {
   "cell_type": "code",
   "execution_count": 20,
   "metadata": {},
   "outputs": [],
   "source": [
    "#Converting result to Single Digit Array\n",
    "result=np.argmax(predictions,axis=0)"
   ]
  },
  {
   "cell_type": "code",
   "execution_count": 21,
   "metadata": {},
   "outputs": [],
   "source": [
    "t=test.T.reshape(-1,28,28)"
   ]
  },
  {
   "cell_type": "code",
   "execution_count": 22,
   "metadata": {},
   "outputs": [
    {
     "name": "stdout",
     "output_type": "stream",
     "text": [
      "1\n"
     ]
    },
    {
     "data": {
      "image/png": "[encoded data removed]",
      "text/plain": [
       "<Figure size 432x288 with 1 Axes>"
      ]
     },
     "metadata": {},
     "output_type": "display_data"
    }
   ],
   "source": [
    "k=222  # Replace it with any no to check\n",
    "plt.imshow(t[k])\n",
    "print(result[k])\n",
    "plt.show()"
   ]
  },
  {
   "cell_type": "code",
   "execution_count": 23,
   "metadata": {},
   "outputs": [],
   "source": [
    "final=pd.DataFrame(result,columns=[\"Label\"])\n",
    "final['ImageId']=sample['ImageId']"
   ]
  },
  {
   "cell_type": "code",
   "execution_count": 24,
   "metadata": {},
   "outputs": [],
   "source": [
    "final = final[['ImageId', 'Label']]\n"
   ]
  },
  {
   "cell_type": "code",
   "execution_count": 25,
   "metadata": {},
   "outputs": [],
   "source": [
    "final.to_csv(\"submission.csv\", index=False)"
   ]
  },
  {
   "cell_type": "code",
   "execution_count": null,
   "metadata": {},
   "outputs": [],
   "source": []
  }
 ],
 "metadata": {
  "kernelspec": {
   "display_name": "Python 3",
   "language": "python",
   "name": "python3"
  },
  "language_info": {
   "codemirror_mode": {
    "name": "ipython",
    "version": 3
   },
   "file_extension": ".py",
   "mimetype": "text/x-python",
   "name": "python",
   "nbconvert_exporter": "python",
   "pygments_lexer": "ipython3",
   "version": "3.6.6"
  }
 },
 "nbformat": 4,
 "nbformat_minor": 2
}
