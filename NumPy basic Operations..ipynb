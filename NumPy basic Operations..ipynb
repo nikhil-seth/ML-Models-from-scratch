{
 "cells": [
  {
   "cell_type": "code",
   "execution_count": 1,
   "metadata": {},
   "outputs": [],
   "source": [
    "import numpy as np"
   ]
  },
  {
   "cell_type": "markdown",
   "metadata": {},
   "source": [
    "Numpy\n",
    "Main Object\n",
    "- Homogenous\n",
    "    - Multidim array\n",
    "    - Data should be of same type\n",
    "    - Indexed by tuples\n",
    "- Dimensions are called axes\n",
    "eg : [[1 2 3][4 5 6]] is having axes/dimension=2\n"
   ]
  },
  {
   "cell_type": "markdown",
   "metadata": {},
   "source": [
    "ndarray\n",
    "- .ndim : no of dimensions\n",
    "- .shape : shape in tuple\n",
    "- .size : total no of elements\n",
    "- .dtype : Type of array\n",
    "- .data : memory occupied location"
   ]
  },
  {
   "cell_type": "code",
   "execution_count": 2,
   "metadata": {},
   "outputs": [
    {
     "name": "stdout",
     "output_type": "stream",
     "text": [
      "2\n",
      "(3, 3)\n",
      "9\n",
      "int32\n",
      "<memory at 0x0000025D2A7817E0>\n"
     ]
    }
   ],
   "source": [
    "a=np.array([[1,2,3],[4,5,6],[7,8,9]])\n",
    "print(a.ndim)\n",
    "print(a.shape)\n",
    "print(a.size)\n",
    "print(a.dtype)\n",
    "print(a.data)"
   ]
  },
  {
   "cell_type": "markdown",
   "metadata": {},
   "source": [
    "Array Creation\n",
    "- a=np.array([[1,2,3],[4,5,6],[7,8,9]])\n",
    "    - function takes tuple/list as data of array\n",
    "    - Can also specify datatype\n",
    "    - eg: np.array(2,3,4) -> Invalid\n",
    "    - a=np.array([1,2],dtype=complex)\n",
    "- Predefined Function for creation\n",
    "    - np.zeros((3,4)) : Puts 0's in all array values\n",
    "    - np.ones  : Puts 1's in all array values\n",
    "    - np.empty : Puts Random Values\n",
    "    - *Takes tuple of shape as parameter*\n",
    "    - By default, datatype is F64\n",
    "- np.arange(init,final,step)\n",
    "    - Generates values betwee init to end with step as incrementing factor\n",
    "    - Takes integer values only\n",
    "- np.linspace(a,b,c)\n",
    "    - For Float\n",
    "    - a-: Start b-:End c-: No of Elements Reqd."
   ]
  },
  {
   "cell_type": "code",
   "execution_count": 3,
   "metadata": {},
   "outputs": [],
   "source": [
    "a=np.array([[1,2,3],[4,5,6],[7,8,9]])\n",
    "b=np.array([1,2],dtype=complex)"
   ]
  },
  {
   "cell_type": "code",
   "execution_count": 4,
   "metadata": {},
   "outputs": [
    {
     "ename": "ValueError",
     "evalue": "only 2 non-keyword arguments accepted",
     "output_type": "error",
     "traceback": [
      "\u001b[1;31m---------------------------------------------------------------------------\u001b[0m",
      "\u001b[1;31mValueError\u001b[0m                                Traceback (most recent call last)",
      "\u001b[1;32m<ipython-input-4-24b99afe6914>\u001b[0m in \u001b[0;36m<module>\u001b[1;34m\u001b[0m\n\u001b[1;32m----> 1\u001b[1;33m \u001b[0mnp\u001b[0m\u001b[1;33m.\u001b[0m\u001b[0marray\u001b[0m\u001b[1;33m(\u001b[0m\u001b[1;36m2\u001b[0m\u001b[1;33m,\u001b[0m\u001b[1;36m3\u001b[0m\u001b[1;33m,\u001b[0m\u001b[1;36m4\u001b[0m\u001b[1;33m)\u001b[0m\u001b[1;33m\u001b[0m\u001b[1;33m\u001b[0m\u001b[0m\n\u001b[0m",
      "\u001b[1;31mValueError\u001b[0m: only 2 non-keyword arguments accepted"
     ]
    }
   ],
   "source": [
    "np.array(2,3,4)"
   ]
  },
  {
   "cell_type": "code",
   "execution_count": 5,
   "metadata": {},
   "outputs": [
    {
     "name": "stdout",
     "output_type": "stream",
     "text": [
      "[[0. 0. 0. 0.]\n",
      " [0. 0. 0. 0.]\n",
      " [0. 0. 0. 0.]]\n",
      "[[1. 1. 1. 1.]\n",
      " [1. 1. 1. 1.]\n",
      " [1. 1. 1. 1.]]\n",
      "[[1. 1. 1. 1.]\n",
      " [1. 1. 1. 1.]\n",
      " [1. 1. 1. 1.]]\n"
     ]
    }
   ],
   "source": [
    "print(np.zeros((3,4)))\n",
    "print(np.ones((3,4)))\n",
    "print(np.empty((3,4)))"
   ]
  },
  {
   "cell_type": "code",
   "execution_count": 6,
   "metadata": {},
   "outputs": [
    {
     "data": {
      "text/plain": [
       "array([[ 0,  2,  4],\n",
       "       [ 6,  8, 10],\n",
       "       [12, 14, 16]])"
      ]
     },
     "execution_count": 6,
     "metadata": {},
     "output_type": "execute_result"
    }
   ],
   "source": [
    "np.arange(0,18,2).reshape(3,3)"
   ]
  },
  {
   "cell_type": "code",
   "execution_count": 7,
   "metadata": {},
   "outputs": [
    {
     "data": {
      "text/plain": [
       "array([[ 0.        ,  1.33333333,  2.66666667,  4.        ],\n",
       "       [ 5.33333333,  6.66666667,  8.        ,  9.33333333],\n",
       "       [10.66666667, 12.        , 13.33333333, 14.66666667],\n",
       "       [16.        , 17.33333333, 18.66666667, 20.        ]])"
      ]
     },
     "execution_count": 7,
     "metadata": {},
     "output_type": "execute_result"
    }
   ],
   "source": [
    "np.linspace(0,20,16).reshape(4,4)"
   ]
  },
  {
   "cell_type": "markdown",
   "metadata": {},
   "source": [
    "Basic Operations\n",
    "- +, -, ** , *, logicals : all work elementwise.\n",
    "- np.dot(A,B) : Matrix Multiplication.\n",
    "- a.sum()\n",
    "    - Sum of Row/Col\n",
    "    - axis parameter can be specified\n",
    "    - axis=0 : Col's sum\n",
    "    - axis=1 : Row's sum\n",
    "- np.min(), np.max()\n",
    "    - Work similarly to sum() function with axis parameter.\n"
   ]
  },
  {
   "cell_type": "code",
   "execution_count": 8,
   "metadata": {},
   "outputs": [
    {
     "name": "stdout",
     "output_type": "stream",
     "text": [
      "[[ 2.  3.  4.]\n",
      " [ 5.  6.  7.]\n",
      " [ 8.  9. 10.]]\n",
      "[[1. 2. 3.]\n",
      " [4. 5. 6.]\n",
      " [7. 8. 9.]]\n",
      "[[ 1  4  9]\n",
      " [16 25 36]\n",
      " [49 64 81]]\n",
      "[[ True False False]\n",
      " [False False False]\n",
      " [False False False]]\n",
      "45\n",
      "[ 6 15 24]\n",
      "[1 2 3]\n",
      "[1 4 7]\n",
      "[7 8 9]\n"
     ]
    }
   ],
   "source": [
    "a=np.array([[1,2,3],[4,5,6],[7,8,9]])\n",
    "b=np.ones((3,3))\n",
    "print(a+b)\n",
    "print(a*b)\n",
    "print(a**2)\n",
    "print(a==b)\n",
    "print(a.sum())\n",
    "print(a.sum(axis=1))\n",
    "print(a.min(axis=0))\n",
    "print(a.min(axis=1))\n",
    "print(a.max(axis=0))"
   ]
  },
  {
   "cell_type": "markdown",
   "metadata": {},
   "source": [
    "Universal functions\n",
    "- sin(),cos(),exp(),sqrt().. etc.\n",
    "- All apply elementwise"
   ]
  },
  {
   "cell_type": "code",
   "execution_count": 9,
   "metadata": {},
   "outputs": [
    {
     "name": "stdout",
     "output_type": "stream",
     "text": [
      "[[ 0.84147098  0.90929743  0.14112001]\n",
      " [-0.7568025  -0.95892427 -0.2794155 ]\n",
      " [ 0.6569866   0.98935825  0.41211849]] \n",
      "\n",
      "[[ 0.54030231 -0.41614684 -0.9899925 ]\n",
      " [-0.65364362  0.28366219  0.96017029]\n",
      " [ 0.75390225 -0.14550003 -0.91113026]] \n",
      "\n",
      "[[2.71828183e+00 7.38905610e+00 2.00855369e+01]\n",
      " [5.45981500e+01 1.48413159e+02 4.03428793e+02]\n",
      " [1.09663316e+03 2.98095799e+03 8.10308393e+03]] \n",
      "\n",
      "[[1.         1.41421356 1.73205081]\n",
      " [2.         2.23606798 2.44948974]\n",
      " [2.64575131 2.82842712 3.        ]] \n",
      "\n"
     ]
    }
   ],
   "source": [
    "print(np.sin(a),\"\\n\")\n",
    "print(np.cos(a),\"\\n\")\n",
    "print(np.exp(a),\"\\n\")\n",
    "print(np.sqrt(a),\"\\n\")"
   ]
  },
  {
   "cell_type": "markdown",
   "metadata": {},
   "source": [
    "**Indexing, Slicing, Iterating**\n",
    "- a=np.arange(10)**2\n",
    "    - a[2]=4 : Used to find thing at a particular index\n",
    "    - a[2:5] : used to read values from starting index till ending index\n",
    "    - a[:6:2] : used to read values from starting index till ending index with a jump of 2.\n",
    "- From functions \n",
    "    - np.fromfunction(fn,shape in tuple,dtype of array)\n",
    "- for multidim array\n",
    "    - C[:,2,:2,2:3,4] // where after every , is a new dimension.\n",
    "- a.flat()\n",
    "    - Converts A to 1D array\n",
    "- Iteration is done always wrt axes in down side."
   ]
  },
  {
   "cell_type": "code",
   "execution_count": 10,
   "metadata": {},
   "outputs": [
    {
     "name": "stdout",
     "output_type": "stream",
     "text": [
      "[ 0  1  4  9 16 25 36 49 64 81]\n",
      "4\n",
      "[ 4  9 16]\n",
      "[ 0  4 16]\n"
     ]
    }
   ],
   "source": [
    "a=np.arange(10)**2\n",
    "print(a)\n",
    "print(a[2])\n",
    "print(a[2:5])\n",
    "print(a[:6:2])"
   ]
  },
  {
   "cell_type": "code",
   "execution_count": 11,
   "metadata": {},
   "outputs": [
    {
     "data": {
      "text/plain": [
       "array([[0, 1, 2, 3],\n",
       "       [1, 2, 3, 4],\n",
       "       [2, 3, 4, 5],\n",
       "       [3, 4, 5, 6],\n",
       "       [4, 5, 6, 7]])"
      ]
     },
     "execution_count": 11,
     "metadata": {},
     "output_type": "execute_result"
    }
   ],
   "source": [
    "def fn(x,y):\n",
    "    return x+y\n",
    "np.fromfunction(fn,(5,4),dtype=int)"
   ]
  },
  {
   "cell_type": "code",
   "execution_count": 12,
   "metadata": {},
   "outputs": [
    {
     "name": "stdout",
     "output_type": "stream",
     "text": [
      "[ 0  1  4  9 16 25 36 49 64 81]\n",
      "0\n",
      "1\n",
      "4\n",
      "9\n",
      "16\n",
      "25\n",
      "36\n",
      "49\n",
      "64\n",
      "81\n"
     ]
    }
   ],
   "source": [
    "print(a)\n",
    "for x in a.flat:\n",
    "    print(x)"
   ]
  },
  {
   "cell_type": "markdown",
   "metadata": {},
   "source": [
    "Shape Manipulation\n",
    "- Many operations but all return array, do not modify the given one.\n",
    "- a.ravel() : Returns Flatted array\n",
    "- a.reshape((a,b)) : Return the array whose shape has been changed.\n",
    "- a.T : Transposes the array\n",
    "- a.resize(a,b): Changes the array's shape."
   ]
  },
  {
   "cell_type": "code",
   "execution_count": 13,
   "metadata": {},
   "outputs": [
    {
     "name": "stdout",
     "output_type": "stream",
     "text": [
      "[[ 0  1  2  3]\n",
      " [ 4  5  6  7]\n",
      " [ 8  9 10 11]]\n",
      "[ 0  1  2  3  4  5  6  7  8  9 10 11]\n",
      "[[ 0  1  2  3  4  5]\n",
      " [ 6  7  8  9 10 11]]\n",
      "[[ 0  1  2  3]\n",
      " [ 4  5  6  7]\n",
      " [ 8  9 10 11]]\n",
      "[[ 0  4  8]\n",
      " [ 1  5  9]\n",
      " [ 2  6 10]\n",
      " [ 3  7 11]]\n",
      "[[ 0  1  2  3  4  5]\n",
      " [ 6  7  8  9 10 11]]\n"
     ]
    }
   ],
   "source": [
    "a=np.arange(12).reshape(3,4)\n",
    "print(a)\n",
    "print(a.ravel())\n",
    "print(a.reshape(2,6))\n",
    "print(a)\n",
    "print(a.T)\n",
    "a.resize(2,6)\n",
    "print(a)"
   ]
  },
  {
   "cell_type": "markdown",
   "metadata": {},
   "source": [
    "Stacking\n",
    "- np.vstack(a,b) Stacks a above b\n",
    "    - Should have same no of columns\n",
    "    - a/b type\n",
    "- np.hstack(a,b) Stacks a side by side to b\n",
    "    - Should have same no of rows.\n",
    "- np.col_stack((a,b))\n",
    "    - Stack columns to form a 2D array."
   ]
  },
  {
   "cell_type": "code",
   "execution_count": 14,
   "metadata": {},
   "outputs": [
    {
     "data": {
      "text/plain": [
       "array([[1, 4],\n",
       "       [2, 3]])"
      ]
     },
     "execution_count": 14,
     "metadata": {},
     "output_type": "execute_result"
    }
   ],
   "source": [
    "a=np.array([1,2])\n",
    "b=np.array([4,3])\n",
    "np.column_stack((a,b))"
   ]
  },
  {
   "cell_type": "code",
   "execution_count": 15,
   "metadata": {},
   "outputs": [
    {
     "data": {
      "text/plain": [
       "array([[1, 2],\n",
       "       [4, 3]])"
      ]
     },
     "execution_count": 15,
     "metadata": {},
     "output_type": "execute_result"
    }
   ],
   "source": [
    "np.vstack((a,b))"
   ]
  },
  {
   "cell_type": "code",
   "execution_count": 16,
   "metadata": {},
   "outputs": [
    {
     "data": {
      "text/plain": [
       "array([1, 2, 4, 3])"
      ]
     },
     "execution_count": 16,
     "metadata": {},
     "output_type": "execute_result"
    }
   ],
   "source": [
    "a=a.T\n",
    "b=b.T\n",
    "np.hstack((a,b))"
   ]
  },
  {
   "cell_type": "markdown",
   "metadata": {},
   "source": [
    "**Copies & Views**\n",
    "- 3 Cases\n",
    "- **No Copy at All**\n",
    "    - No copy is made, python passes mutable objects as reference.\n",
    "- **View or Shallow Copy**\n",
    "    - Array can change, but addr of elements is same.\n",
    "    - c=a.view() , c will share elements having same addr as a.\n",
    "    - if we change value in c, a will change.\n",
    "- **DeepCopy**\n",
    "    - Makes a complete copy of array."
   ]
  },
  {
   "cell_type": "markdown",
   "metadata": {},
   "source": [
    "Other Functions\n",
    "- np.eye(x) : Returns a x*x Identity array.\n",
    "- np.linalg.inv(a) : Returns inverse of array a."
   ]
  }
 ],
 "metadata": {
  "kernelspec": {
   "display_name": "Python 3",
   "language": "python",
   "name": "python3"
  },
  "language_info": {
   "codemirror_mode": {
    "name": "ipython",
    "version": 3
   },
   "file_extension": ".py",
   "mimetype": "text/x-python",
   "name": "python",
   "nbconvert_exporter": "python",
   "pygments_lexer": "ipython3",
   "version": "3.7.3"
  }
 },
 "nbformat": 4,
 "nbformat_minor": 2
}
