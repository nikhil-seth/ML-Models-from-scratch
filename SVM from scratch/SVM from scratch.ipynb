{
 "cells": [
  {
   "cell_type": "code",
   "execution_count": 46,
   "metadata": {},
   "outputs": [],
   "source": [
    "# Importing Numpy for scientific calculation\n",
    "import numpy as np"
   ]
  },
  {
   "cell_type": "code",
   "execution_count": 47,
   "metadata": {},
   "outputs": [],
   "source": [
    "# Function to initialise parameter size\n",
    "def paramsize(X):    # returns n & m\n",
    "    print(X.shape)\n",
    "    m=X.shape[0]\n",
    "    n=X.shape[1]\n",
    "    print(\"No of Training Examples :\",m,\"\\nNo of Features :\",n)\n",
    "    return n,m"
   ]
  },
  {
   "cell_type": "code",
   "execution_count": 48,
   "metadata": {},
   "outputs": [],
   "source": [
    "# Function to initialize weight parameters\n",
    "def initParam(n):\n",
    "    return np.zeros((n,1))"
   ]
  },
  {
   "cell_type": "code",
   "execution_count": 49,
   "metadata": {},
   "outputs": [],
   "source": [
    "def compute(X,weights,lambd):    # Weights :(n,1) # X :(m,n)\n",
    "    return np.dot(X,weights) + np.sum(lambd*(weights**2))  # Returns Y-Hat or Predicted value in array of size : (m,1)"
   ]
  },
  {
   "cell_type": "code",
   "execution_count": 53,
   "metadata": {},
   "outputs": [],
   "source": [
    "def compute_cost(Y,pred):  # Y:(m,1) pred(m,1)\n",
    "    value=Y*pred\n",
    "    if value >1:\n",
    "        cost=0\n",
    "    else :\n",
    "        cost=1-value\n",
    "    return cost\n",
    "\n",
    "def svm(X,Y,epochs=1000,lr=1):    # X:(m,n) Y:(m,1)\n",
    "    n,m=paramsize(X)\n",
    "    w=initParam(n)       # w:(n,1)\n",
    "    for iter in range(1,epochs):\n",
    "        for i,x in enumerate(X):\n",
    "            x_train=x.reshape(1,-1)    #(1,n)\n",
    "            pred=compute(x_train,w,1/iter)  #(1,1)\n",
    "            cost=compute_cost(Y[i].reshape(1,1),pred)\n",
    "            if(iter%100==0):\n",
    "                print(\"\\nCost at \",iter,\" iteration of \",i,\"Training Example : \",cost)\n",
    "                \n",
    "            if cost==0:\n",
    "                grad=np.zeros(w.shape)\n",
    "            else:\n",
    "                grad=(-Y[i].reshape(1,1)*x_train).T\n",
    "            grad=grad+2/iter*w\n",
    "            w=w-lr*grad\n",
    "    return w\n"
   ]
  },
  {
   "cell_type": "code",
   "execution_count": 54,
   "metadata": {},
   "outputs": [],
   "source": [
    "X = np.array([\n",
    "    [-2,4,-1],\n",
    "    [4,1,-1],\n",
    "    [1, 6, -1],\n",
    "    [2, 4, -1],\n",
    "    [6, 2, -1],\n",
    "\n",
    "])\n",
    "\n",
    "y = np.array([-1,-1,1,1,1]).reshape(-1,1)"
   ]
  },
  {
   "cell_type": "code",
   "execution_count": 55,
   "metadata": {},
   "outputs": [
    {
     "name": "stdout",
     "output_type": "stream",
     "text": [
      "(5, 3) (5, 1)\n",
      "(5, 3)\n",
      "No of Training Examples : 5 \n",
      "No of Features : 3\n",
      "\n",
      "Cost at  100  iteration of  0 Training Example :  0\n",
      "\n",
      "Cost at  100  iteration of  1 Training Example :  [[6.46178653]]\n",
      "\n",
      "Cost at  100  iteration of  2 Training Example :  [[2.75745681]]\n",
      "\n",
      "Cost at  100  iteration of  3 Training Example :  0\n",
      "\n",
      "Cost at  100  iteration of  4 Training Example :  0\n",
      "\n",
      "Cost at  200  iteration of  0 Training Example :  [[15.75998031]]\n",
      "\n",
      "Cost at  200  iteration of  1 Training Example :  [[3.27200717]]\n",
      "\n",
      "Cost at  200  iteration of  2 Training Example :  [[3.02663382]]\n",
      "\n",
      "Cost at  200  iteration of  3 Training Example :  0\n",
      "\n",
      "Cost at  200  iteration of  4 Training Example :  0\n",
      "\n",
      "Cost at  300  iteration of  0 Training Example :  0\n",
      "\n",
      "Cost at  300  iteration of  1 Training Example :  [[0.02059496]]\n",
      "\n",
      "Cost at  300  iteration of  2 Training Example :  [[8.17401379]]\n",
      "\n",
      "Cost at  300  iteration of  3 Training Example :  0\n",
      "\n",
      "Cost at  300  iteration of  4 Training Example :  [[5.21438235]]\n",
      "\n",
      "Cost at  400  iteration of  0 Training Example :  [[14.86489652]]\n",
      "\n",
      "Cost at  400  iteration of  1 Training Example :  [[23.44442211]]\n",
      "\n",
      "Cost at  400  iteration of  2 Training Example :  0\n",
      "\n",
      "Cost at  400  iteration of  3 Training Example :  0\n",
      "\n",
      "Cost at  400  iteration of  4 Training Example :  0\n",
      "\n",
      "Cost at  500  iteration of  0 Training Example :  0\n",
      "\n",
      "Cost at  500  iteration of  1 Training Example :  0\n",
      "\n",
      "Cost at  500  iteration of  2 Training Example :  0\n",
      "\n",
      "Cost at  500  iteration of  3 Training Example :  0\n",
      "\n",
      "Cost at  500  iteration of  4 Training Example :  0\n",
      "\n",
      "Cost at  600  iteration of  0 Training Example :  0\n",
      "\n",
      "Cost at  600  iteration of  1 Training Example :  0\n",
      "\n",
      "Cost at  600  iteration of  2 Training Example :  0\n",
      "\n",
      "Cost at  600  iteration of  3 Training Example :  0\n",
      "\n",
      "Cost at  600  iteration of  4 Training Example :  0\n",
      "\n",
      "Cost at  700  iteration of  0 Training Example :  [[16.01409258]]\n",
      "\n",
      "Cost at  700  iteration of  1 Training Example :  [[23.25754407]]\n",
      "\n",
      "Cost at  700  iteration of  2 Training Example :  0\n",
      "\n",
      "Cost at  700  iteration of  3 Training Example :  0\n",
      "\n",
      "Cost at  700  iteration of  4 Training Example :  0\n",
      "\n",
      "Cost at  800  iteration of  0 Training Example :  0\n",
      "\n",
      "Cost at  800  iteration of  1 Training Example :  0\n",
      "\n",
      "Cost at  800  iteration of  2 Training Example :  0\n",
      "\n",
      "Cost at  800  iteration of  3 Training Example :  0\n",
      "\n",
      "Cost at  800  iteration of  4 Training Example :  0\n",
      "\n",
      "Cost at  900  iteration of  0 Training Example :  0\n",
      "\n",
      "Cost at  900  iteration of  1 Training Example :  0\n",
      "\n",
      "Cost at  900  iteration of  2 Training Example :  0\n",
      "\n",
      "Cost at  900  iteration of  3 Training Example :  0\n",
      "\n",
      "Cost at  900  iteration of  4 Training Example :  0\n"
     ]
    }
   ],
   "source": [
    "print(X.shape,y.shape)\n",
    "w=svm(X,y)"
   ]
  },
  {
   "cell_type": "code",
   "execution_count": 44,
   "metadata": {},
   "outputs": [
    {
     "name": "stdout",
     "output_type": "stream",
     "text": [
      "[[ 0.94616777]\n",
      " [ 6.60303886]\n",
      " [11.41162322]]\n"
     ]
    }
   ],
   "source": [
    "print(w)"
   ]
  },
  {
   "cell_type": "code",
   "execution_count": null,
   "metadata": {},
   "outputs": [],
   "source": []
  }
 ],
 "metadata": {
  "kernelspec": {
   "display_name": "Python 3",
   "language": "python",
   "name": "python3"
  },
  "language_info": {
   "codemirror_mode": {
    "name": "ipython",
    "version": 3
   },
   "file_extension": ".py",
   "mimetype": "text/x-python",
   "name": "python",
   "nbconvert_exporter": "python",
   "pygments_lexer": "ipython3",
   "version": "3.6.6"
  }
 },
 "nbformat": 4,
 "nbformat_minor": 2
}
